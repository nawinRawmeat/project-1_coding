{
  "nbformat": 4,
  "nbformat_minor": 0,
  "metadata": {
    "colab": {
      "provenance": [],
      "authorship_tag": "ABX9TyMaALTj4tCikS3/AeErUU+P",
      "include_colab_link": true
    },
    "kernelspec": {
      "name": "python3",
      "display_name": "Python 3"
    },
    "language_info": {
      "name": "python"
    }
  },
  "cells": [
    {
      "cell_type": "markdown",
      "metadata": {
        "id": "view-in-github",
        "colab_type": "text"
      },
      "source": [
        "<a href=\"https://colab.research.google.com/github/nawinRawmeat/project-1_coding/blob/main/11_gyoza.ipynb\" target=\"_parent\"><img src=\"https://colab.research.google.com/assets/colab-badge.svg\" alt=\"Open In Colab\"/></a>"
      ]
    },
    {
      "cell_type": "markdown",
      "source": [
        "**เลขที่ 11 เกี๊ยวซ่า นาวิน หังสนาวิน**\n",
        "\n",
        "no.11 gyoza nawin hangsanawin"
      ],
      "metadata": {
        "id": "E5lR-HPecWR7"
      }
    },
    {
      "cell_type": "code",
      "source": [
        "print(\"hello im gyoza im living in titan submarine\")"
      ],
      "metadata": {
        "colab": {
          "base_uri": "https://localhost:8080/"
        },
        "id": "Fr6U1iMTcVys",
        "outputId": "2965908b-afaf-4db0-e34d-7a6553492196"
      },
      "execution_count": null,
      "outputs": [
        {
          "output_type": "stream",
          "name": "stdout",
          "text": [
            "hello im gyoza im living in titan submarine\n"
          ]
        }
      ]
    },
    {
      "cell_type": "code",
      "source": [
        "print('a \\n an \\n ant')"
      ],
      "metadata": {
        "colab": {
          "base_uri": "https://localhost:8080/"
        },
        "id": "Ows-qnSeHz7G",
        "outputId": "4fefa6f8-417b-4eb5-f67a-4f458591051d"
      },
      "execution_count": null,
      "outputs": [
        {
          "output_type": "stream",
          "name": "stdout",
          "text": [
            "a \n",
            " an \n",
            " ant\n"
          ]
        }
      ]
    },
    {
      "cell_type": "code",
      "source": [
        "print(\"\"\"a\n",
        "an\n",
        "ant\"\"\")"
      ],
      "metadata": {
        "colab": {
          "base_uri": "https://localhost:8080/"
        },
        "id": "Eb6yU3WwPDU3",
        "outputId": "ef29448b-c84e-45c8-d64f-cfcbd37ca4e2"
      },
      "execution_count": null,
      "outputs": [
        {
          "output_type": "stream",
          "name": "stdout",
          "text": [
            "a\n",
            "an\n",
            "ant\n",
            "annt\n",
            "a\n",
            "a\n",
            "a\n",
            "a\n",
            "a\n",
            "a\n"
          ]
        }
      ]
    },
    {
      "cell_type": "code",
      "source": [
        "print('''a\n",
        "an\n",
        "ant''')"
      ],
      "metadata": {
        "colab": {
          "base_uri": "https://localhost:8080/"
        },
        "id": "fmMbJHvjO9_n",
        "outputId": "681d890c-760e-4067-d367-affb24b0681d"
      },
      "execution_count": null,
      "outputs": [
        {
          "output_type": "stream",
          "name": "stdout",
          "text": [
            "a\n",
            "an\n",
            "ant\n"
          ]
        }
      ]
    },
    {
      "cell_type": "code",
      "source": [
        "print('a')\n",
        "print('an')\n",
        "print('ant')"
      ],
      "metadata": {
        "colab": {
          "base_uri": "https://localhost:8080/"
        },
        "id": "lLRsHSFdEnlQ",
        "outputId": "00975535-dc66-4ba5-9049-8ddb458f3961"
      },
      "execution_count": null,
      "outputs": [
        {
          "output_type": "stream",
          "name": "stdout",
          "text": [
            "a\n",
            "an\n",
            "ant\n"
          ]
        }
      ]
    },
    {
      "cell_type": "markdown",
      "source": [
        "29 may 2024\n",
        "เรียนเกี่ยวกับการจัดเก็บข้อมูล"
      ],
      "metadata": {
        "id": "kJGTlS1SZQkr"
      }
    },
    {
      "cell_type": "code",
      "source": [
        "\n",
        "a = 2\n",
        "b = 1.5\n",
        "c = 'm.4/4'\n",
        "\n",
        "numeric1 = 5\n",
        "print(numeric1)\n",
        "type(numeric1)"
      ],
      "metadata": {
        "colab": {
          "base_uri": "https://localhost:8080/"
        },
        "id": "B5mxBxaxYhuC",
        "outputId": "5bb7d4b0-4f23-4919-f7d1-a91d2696d65a"
      },
      "execution_count": null,
      "outputs": [
        {
          "output_type": "stream",
          "name": "stdout",
          "text": [
            "5\n"
          ]
        },
        {
          "output_type": "execute_result",
          "data": {
            "text/plain": [
              "int"
            ]
          },
          "metadata": {},
          "execution_count": 1
        }
      ]
    },
    {
      "cell_type": "markdown",
      "source": [
        "5 มิถุนายน 2567 : วิธีใช้ index\n",
        "\n",
        "index คือตัวเลขที่ใช้ในการกำหนดลำดับของตัวแปรนั้นๆ โดยจำเป็นต้องมี [ และ ] ในการเปิดปิดข้อความและ , ในการสร้างข้อมูลถัดไป โดยวิธีการเลือกดู index แต่ละอันคือการเขียนตัวเลข ตั้งแต่ 0 หรือ -1 ไปเรือยๆตามลำดับข้อมูล"
      ],
      "metadata": {
        "id": "qW7P_9yXWlMQ"
      }
    },
    {
      "cell_type": "code",
      "source": [
        "string1 = ['Python']\n",
        "print(string1[0])\n",
        "AMBUTANUTTT = ['dreamybull','nudbarber','nigga556','deez nut']\n",
        "print(AMBUTANUTTT[2])\n"
      ],
      "metadata": {
        "colab": {
          "base_uri": "https://localhost:8080/"
        },
        "id": "ec886Fk7Wj5u",
        "outputId": "4f495664-37e1-4f1b-c53b-02ef94e36b5e"
      },
      "execution_count": null,
      "outputs": [
        {
          "output_type": "stream",
          "name": "stdout",
          "text": [
            "Python\n",
            "nigga556\n"
          ]
        }
      ]
    },
    {
      "cell_type": "markdown",
      "source": [
        "input = python\n",
        "proceed = ประมวลผล\n",
        "output = ระบบทำงาน"
      ],
      "metadata": {
        "id": "Cub-xlK1fvXe"
      }
    },
    {
      "cell_type": "code",
      "source": [
        "name = input('สวัสดีครับผมนาวิน คุณท่านชื่ออะไรครับ \\n ยินดีที่ได้พบ ')\n",
        "print(name)"
      ],
      "metadata": {
        "colab": {
          "base_uri": "https://localhost:8080/"
        },
        "id": "dRDiUrdcuogE",
        "outputId": "9dc2ea39-7d4b-4918-a8a8-6f3c363341ce"
      },
      "execution_count": null,
      "outputs": [
        {
          "output_type": "stream",
          "name": "stdout",
          "text": [
            "สวัสดีครับผมนาวิน คุณท่านชื่ออะไรครับ \n",
            " ยินดีที่ได้พบ asd\n",
            "asd\n"
          ]
        }
      ]
    },
    {
      "cell_type": "code",
      "source": [
        "side = int(input('ความยาวด้าน(ซม.) \\n คือ '))\n",
        "\n",
        "area = side * side\n",
        "\n",
        "print(\"พื้นที่สี่เหลี่ยม เท่ากับ \", area, 'ตร.ซม')"
      ],
      "metadata": {
        "colab": {
          "base_uri": "https://localhost:8080/"
        },
        "id": "oNb9lE0Ezd-b",
        "outputId": "7c425484-03c4-497e-a006-663313435cf0"
      },
      "execution_count": null,
      "outputs": [
        {
          "output_type": "stream",
          "name": "stdout",
          "text": [
            "ความยาวด้าน(ซม.) \n",
            " คือ 88\n",
            "พื้นที่สี่เหลี่ยม เท่ากับ  7744 ตร.ซม\n"
          ]
        }
      ]
    },
    {
      "cell_type": "markdown",
      "source": [
        "1/7/67"
      ],
      "metadata": {
        "id": "1uZ0quK5RjFY"
      }
    },
    {
      "cell_type": "code",
      "source": [
        "side = int(input('ความยาวด้าน(ซม.) \\n คือ '))\n",
        "\n",
        "wide = int(input('ความกว้างด้าน(ซม.)\\n คือ '))\n",
        "\n",
        "area = side *  wide\n",
        "\n",
        "print(\"พื้นที่สี่เหลี่ยมผืนผ้า เท่ากับ \", area, 'ตร.ซม')"
      ],
      "metadata": {
        "colab": {
          "base_uri": "https://localhost:8080/"
        },
        "id": "H7DodkFnPqOZ",
        "outputId": "adbef404-8a35-4347-ad7b-f35876b71556"
      },
      "execution_count": null,
      "outputs": [
        {
          "output_type": "stream",
          "name": "stdout",
          "text": [
            "ความยาวด้าน(ซม.) \n",
            " คือ 555\n",
            "ความกว้างด้าน(ซม.)\n",
            " คือ 555\n",
            "พื้นที่สี่เหลี่ยมผืนผ้า เท่ากับ  308025 ตร.ซม\n"
          ]
        }
      ]
    },
    {
      "cell_type": "code",
      "source": [
        "distance = int(input(\"ความเร็วแนวตรง(ม.)\\n คือ\"))\n",
        "\n",
        "time = int(input('เวลาที่ใช้(วิ)\\n คือ'))\n",
        "\n",
        "cadzhoa = speed / time\n",
        "\n",
        "print('อัตราเร็ว เท่ากับ ' , cadzhoa , \"เมตรต่อวินาที\")"
      ],
      "metadata": {
        "colab": {
          "base_uri": "https://localhost:8080/"
        },
        "id": "4dkQj7sjRvf_",
        "outputId": "1e22cb66-b688-450b-e909-349d957de430"
      },
      "execution_count": null,
      "outputs": [
        {
          "output_type": "stream",
          "name": "stdout",
          "text": [
            "ความเร็วแนวตรง(ม.)\n",
            " คือ12\n",
            "เวลาที่ใช้(วิ)\n",
            " คือ12\n",
            "อัตราเร็ว เท่ากับ  0.8333333333333334 เมตรต่อวินาที\n"
          ]
        }
      ]
    },
    {
      "cell_type": "code",
      "source": [
        "print('sawadeekub ')\n",
        "print('เว็ปคำนวน bmi ครับพรี่')\n",
        "\n",
        "print('ใส่ขื่อของท่านมาครับ')\n",
        "name = str(input('ชื่อ-นามสกุล'))\n",
        "print(name)\n",
        "height = float(input(\"ความสูง(ม.)  \\n คือ\"))\n",
        "weight = float(input('น้ำหนัก(กก.) \\n คือ'))\n",
        "\n",
        "BMI = weight / height**2\n",
        "\n",
        "print(' BMI เท่ากับ ' , BMI ,)\n",
        "#เงื่อนไขของ BMI ถ้า bmi น้อยกว่า 18.5 คือต่ำกว่าเกณฑ์\n",
        "#ถ้า bmi ระหว่าง 18.5-22.9 สมส่วน\n",
        "#ถ้ามากกว่า 22.9 แปลผลคือ เกินเกณฑ์"
      ],
      "metadata": {
        "colab": {
          "base_uri": "https://localhost:8080/",
          "height": 465
        },
        "id": "jgSQ7ChoY93A",
        "outputId": "ace5020a-d2fe-4aad-9cda-3a580e360a4a"
      },
      "execution_count": null,
      "outputs": [
        {
          "output_type": "stream",
          "name": "stdout",
          "text": [
            "sawadeekub \n",
            "เว็ปคำนวน bmi ครับพรี่\n",
            "ใส่ขื่อของท่านมาครับ\n",
            "ชื่อนาวิน\n",
            "นาวิน\n"
          ]
        },
        {
          "output_type": "error",
          "ename": "KeyboardInterrupt",
          "evalue": "Interrupted by user",
          "traceback": [
            "\u001b[0;31m---------------------------------------------------------------------------\u001b[0m",
            "\u001b[0;31mKeyboardInterrupt\u001b[0m                         Traceback (most recent call last)",
            "\u001b[0;32m<ipython-input-37-0dfd8d4c5183>\u001b[0m in \u001b[0;36m<cell line: 7>\u001b[0;34m()\u001b[0m\n\u001b[1;32m      5\u001b[0m \u001b[0mname\u001b[0m \u001b[0;34m=\u001b[0m \u001b[0mstr\u001b[0m\u001b[0;34m(\u001b[0m\u001b[0minput\u001b[0m\u001b[0;34m(\u001b[0m\u001b[0;34m'ชื่อ'\u001b[0m\u001b[0;34m)\u001b[0m\u001b[0;34m)\u001b[0m\u001b[0;34m\u001b[0m\u001b[0;34m\u001b[0m\u001b[0m\n\u001b[1;32m      6\u001b[0m \u001b[0mprint\u001b[0m\u001b[0;34m(\u001b[0m\u001b[0mname\u001b[0m\u001b[0;34m)\u001b[0m\u001b[0;34m\u001b[0m\u001b[0;34m\u001b[0m\u001b[0m\n\u001b[0;32m----> 7\u001b[0;31m \u001b[0mheight\u001b[0m \u001b[0;34m=\u001b[0m \u001b[0mfloat\u001b[0m\u001b[0;34m(\u001b[0m\u001b[0minput\u001b[0m\u001b[0;34m(\u001b[0m\u001b[0;34m\"ความสูง(ม.)  \\n คือ\"\u001b[0m\u001b[0;34m)\u001b[0m\u001b[0;34m)\u001b[0m\u001b[0;34m\u001b[0m\u001b[0;34m\u001b[0m\u001b[0m\n\u001b[0m\u001b[1;32m      8\u001b[0m \u001b[0mweight\u001b[0m \u001b[0;34m=\u001b[0m \u001b[0mfloat\u001b[0m\u001b[0;34m(\u001b[0m\u001b[0minput\u001b[0m\u001b[0;34m(\u001b[0m\u001b[0;34m'น้ำหนัก(กก.) \\n คือ'\u001b[0m\u001b[0;34m)\u001b[0m\u001b[0;34m)\u001b[0m\u001b[0;34m\u001b[0m\u001b[0;34m\u001b[0m\u001b[0m\n\u001b[1;32m      9\u001b[0m \u001b[0;34m\u001b[0m\u001b[0m\n",
            "\u001b[0;32m/usr/local/lib/python3.10/dist-packages/ipykernel/kernelbase.py\u001b[0m in \u001b[0;36mraw_input\u001b[0;34m(self, prompt)\u001b[0m\n\u001b[1;32m    849\u001b[0m                 \u001b[0;34m\"raw_input was called, but this frontend does not support input requests.\"\u001b[0m\u001b[0;34m\u001b[0m\u001b[0;34m\u001b[0m\u001b[0m\n\u001b[1;32m    850\u001b[0m             )\n\u001b[0;32m--> 851\u001b[0;31m         return self._input_request(str(prompt),\n\u001b[0m\u001b[1;32m    852\u001b[0m             \u001b[0mself\u001b[0m\u001b[0;34m.\u001b[0m\u001b[0m_parent_ident\u001b[0m\u001b[0;34m,\u001b[0m\u001b[0;34m\u001b[0m\u001b[0;34m\u001b[0m\u001b[0m\n\u001b[1;32m    853\u001b[0m             \u001b[0mself\u001b[0m\u001b[0;34m.\u001b[0m\u001b[0m_parent_header\u001b[0m\u001b[0;34m,\u001b[0m\u001b[0;34m\u001b[0m\u001b[0;34m\u001b[0m\u001b[0m\n",
            "\u001b[0;32m/usr/local/lib/python3.10/dist-packages/ipykernel/kernelbase.py\u001b[0m in \u001b[0;36m_input_request\u001b[0;34m(self, prompt, ident, parent, password)\u001b[0m\n\u001b[1;32m    893\u001b[0m             \u001b[0;32mexcept\u001b[0m \u001b[0mKeyboardInterrupt\u001b[0m\u001b[0;34m:\u001b[0m\u001b[0;34m\u001b[0m\u001b[0;34m\u001b[0m\u001b[0m\n\u001b[1;32m    894\u001b[0m                 \u001b[0;31m# re-raise KeyboardInterrupt, to truncate traceback\u001b[0m\u001b[0;34m\u001b[0m\u001b[0;34m\u001b[0m\u001b[0m\n\u001b[0;32m--> 895\u001b[0;31m                 \u001b[0;32mraise\u001b[0m \u001b[0mKeyboardInterrupt\u001b[0m\u001b[0;34m(\u001b[0m\u001b[0;34m\"Interrupted by user\"\u001b[0m\u001b[0;34m)\u001b[0m \u001b[0;32mfrom\u001b[0m \u001b[0;32mNone\u001b[0m\u001b[0;34m\u001b[0m\u001b[0;34m\u001b[0m\u001b[0m\n\u001b[0m\u001b[1;32m    896\u001b[0m             \u001b[0;32mexcept\u001b[0m \u001b[0mException\u001b[0m \u001b[0;32mas\u001b[0m \u001b[0me\u001b[0m\u001b[0;34m:\u001b[0m\u001b[0;34m\u001b[0m\u001b[0;34m\u001b[0m\u001b[0m\n\u001b[1;32m    897\u001b[0m                 \u001b[0mself\u001b[0m\u001b[0;34m.\u001b[0m\u001b[0mlog\u001b[0m\u001b[0;34m.\u001b[0m\u001b[0mwarning\u001b[0m\u001b[0;34m(\u001b[0m\u001b[0;34m\"Invalid Message:\"\u001b[0m\u001b[0;34m,\u001b[0m \u001b[0mexc_info\u001b[0m\u001b[0;34m=\u001b[0m\u001b[0;32mTrue\u001b[0m\u001b[0;34m)\u001b[0m\u001b[0;34m\u001b[0m\u001b[0;34m\u001b[0m\u001b[0m\n",
            "\u001b[0;31mKeyboardInterrupt\u001b[0m: Interrupted by user"
          ]
        }
      ]
    },
    {
      "cell_type": "code",
      "source": [],
      "metadata": {
        "colab": {
          "base_uri": "https://localhost:8080/"
        },
        "id": "JB8vEo18bsPo",
        "outputId": "a9a5c6e1-afb5-4f48-88c1-fcf63b66df63"
      },
      "execution_count": null,
      "outputs": [
        {
          "output_type": "stream",
          "name": "stdout",
          "text": [
            "sawadeekub\n"
          ]
        }
      ]
    }
  ]
}